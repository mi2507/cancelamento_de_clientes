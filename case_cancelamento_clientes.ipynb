version https://git-lfs.github.com/spec/v1
oid sha256:99b305251eaf344e80ce381a54842e26d541100185d5c60e11f5d9b8f0727b62
size 3700
